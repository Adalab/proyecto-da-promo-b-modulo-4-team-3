{
 "cells": [
  {
   "cell_type": "code",
   "execution_count": 1,
   "metadata": {},
   "outputs": [],
   "source": [
    "import pandas as pd\n",
    "import numpy as np\n",
    "\n",
    "pd.set_option('display.max_columns', None) # para poder visualizar todas las columnas de los DataFrames\n"
   ]
  },
  {
   "cell_type": "markdown",
   "metadata": {},
   "source": [
    "## INFORMACION DATASET (FILM BETCHDEL TEST)"
   ]
  },
  {
   "cell_type": "markdown",
   "metadata": {},
   "source": [
    "El Test de Bechdel evalúa si una obra de ficción incluye a al menos dos mujeres que hablen entre ellas de algo que no sea un hombre, como una forma de medir la representación femenina en los medios.\n",
    "\n",
    "Resultados TEST: \n",
    "\n",
    "- ok: Películas o episodios que han pasado el Test de Bechdel, es decir, incluyen a dos mujeres que hablan entre ellas de algo que no es un   hombre.\n",
    "\n",
    "- notalk: Películas o episodios que no pasan el test porque no hay ninguna conversación entre mujeres, o simplemente no hay personajes femeninos hablando en absoluto.\n",
    "\n",
    "- men: Películas o episodios pueden haber tenido conversaciones entre mujeres, pero dichas conversaciones están centradas únicamente en hombres, por lo tanto, no pasan el Test de Bechdel.\n",
    "\n",
    "- dubious: presentan situaciones ambiguas o difíciles de clasificar, como diálogos mínimos entre mujeres que no dejan claro si cumplen con los criterios del test o que podrían no ajustarse claramente a los parámetros establecidos.\n",
    "\n",
    "- nowomen: 141 películas o episodios que no tienen personajes femeninos, lo que automáticamente las descalifica del Test de Bechdel.\n",
    "\n"
   ]
  },
  {
   "cell_type": "markdown",
   "metadata": {},
   "source": [
    "En el contexto de análisis de películas, las columnas domgross y intgross se refieren a los ingresos de taquilla en diferentes mercados:\n",
    "\n",
    "- domgross: Hace referencia a los ingresos brutos en el mercado doméstico, es decir, los ingresos generados por la película en su país de origen, que normalmente sería Estados Unidos si estás analizando películas de Hollywood. \"Dom\" proviene de \"domestic\" (doméstico), y \"gross\" indica ingresos brutos, que es el total de dinero recaudado antes de descontar gastos como la distribución y la publicidad.\n",
    "\n",
    "- intgross: Se refiere a los ingresos brutos internacionales, es decir, la cantidad de dinero que la película ha generado en mercados fuera de su país de origen. \"Int\" proviene de \"international\" (internacional). Este valor refleja los ingresos de taquilla obtenidos en otros países.\n",
    "\n",
    "La razón por la cual tienes columnas como domgross e intgross por un lado, y domgross_2013$ e intgross_2013$ por otro, es que las segundas están ajustadas por inflación para hacer las cifras comparables en términos reales.\n",
    "\n",
    "El problema con estas cifras es que no toman en cuenta la inflación. Una película que ganó $100 millones en 1990 no puede ser directamente comparada con una que ganó $100 millones en 2020, ya que el valor del dinero cambia con el tiempo.\n",
    "\n",
    "- domgross_2013$ e intgross_2013$:\n",
    "\n",
    "Estas columnas muestran los ingresos ajustados por inflación hasta el año 2013, lo que significa que los valores de las películas más antiguas han sido ajustados para reflejar lo que ese dinero valdría en 2013.\n",
    "Por ejemplo, si una película de 1990 ganó $100 millones, esa cifra puede haber sido ajustada a $180 millones en dólares de 2013, porque la inflación hizo que el valor del dinero disminuyera con el tiempo.\n",
    "El ajuste por inflación es útil para comparar el éxito financiero de películas de diferentes años de manera más justa.\n",
    "\n"
   ]
  },
  {
   "cell_type": "code",
   "execution_count": 2,
   "metadata": {},
   "outputs": [
    {
     "name": "stdout",
     "output_type": "stream",
     "text": [
      "<class 'pandas.core.frame.DataFrame'>\n",
      "Index: 1794 entries, 2013 to 1970\n",
      "Data columns (total 14 columns):\n",
      " #   Column          Non-Null Count  Dtype  \n",
      "---  ------          --------------  -----  \n",
      " 0   imdb            1794 non-null   object \n",
      " 1   title           1794 non-null   object \n",
      " 2   test            1794 non-null   object \n",
      " 3   clean_test      1794 non-null   object \n",
      " 4   binary          1794 non-null   object \n",
      " 5   budget          1794 non-null   int64  \n",
      " 6   domgross        1777 non-null   float64\n",
      " 7   intgross        1783 non-null   float64\n",
      " 8   code            1794 non-null   object \n",
      " 9   budget_2013$    1794 non-null   int64  \n",
      " 10  domgross_2013$  1776 non-null   float64\n",
      " 11  intgross_2013$  1783 non-null   float64\n",
      " 12  period code     1615 non-null   float64\n",
      " 13  decade code     1615 non-null   float64\n",
      "dtypes: float64(6), int64(2), object(6)\n",
      "memory usage: 210.2+ KB\n"
     ]
    }
   ],
   "source": [
    "# Abrimos csv con la información relativa al test de betchdel\n",
    "\n",
    "df1 = pd.read_csv('movies_bechdel.csv', index_col=0)\n",
    "\n",
    "df1.info()\n",
    "\n",
    "# con el método info vemos que no hay muchos nulos en ninguna de las columnas.\n",
    "# el tipo de dato parece correcto, datos numericos con int o float, y datos categoricos con de tipo object."
   ]
  },
  {
   "cell_type": "code",
   "execution_count": 3,
   "metadata": {},
   "outputs": [
    {
     "data": {
      "text/html": [
       "<div>\n",
       "<style scoped>\n",
       "    .dataframe tbody tr th:only-of-type {\n",
       "        vertical-align: middle;\n",
       "    }\n",
       "\n",
       "    .dataframe tbody tr th {\n",
       "        vertical-align: top;\n",
       "    }\n",
       "\n",
       "    .dataframe thead th {\n",
       "        text-align: right;\n",
       "    }\n",
       "</style>\n",
       "<table border=\"1\" class=\"dataframe\">\n",
       "  <thead>\n",
       "    <tr style=\"text-align: right;\">\n",
       "      <th></th>\n",
       "      <th>imdb</th>\n",
       "      <th>title</th>\n",
       "      <th>test</th>\n",
       "      <th>clean_test</th>\n",
       "      <th>binary</th>\n",
       "      <th>code</th>\n",
       "    </tr>\n",
       "  </thead>\n",
       "  <tbody>\n",
       "    <tr>\n",
       "      <th>count</th>\n",
       "      <td>1794</td>\n",
       "      <td>1794</td>\n",
       "      <td>1794</td>\n",
       "      <td>1794</td>\n",
       "      <td>1794</td>\n",
       "      <td>1794</td>\n",
       "    </tr>\n",
       "    <tr>\n",
       "      <th>unique</th>\n",
       "      <td>1794</td>\n",
       "      <td>1768</td>\n",
       "      <td>10</td>\n",
       "      <td>5</td>\n",
       "      <td>2</td>\n",
       "      <td>85</td>\n",
       "    </tr>\n",
       "    <tr>\n",
       "      <th>top</th>\n",
       "      <td>tt1711425</td>\n",
       "      <td>Pride and Prejudice</td>\n",
       "      <td>ok</td>\n",
       "      <td>ok</td>\n",
       "      <td>FAIL</td>\n",
       "      <td>2009FAIL</td>\n",
       "    </tr>\n",
       "    <tr>\n",
       "      <th>freq</th>\n",
       "      <td>1</td>\n",
       "      <td>3</td>\n",
       "      <td>696</td>\n",
       "      <td>803</td>\n",
       "      <td>991</td>\n",
       "      <td>82</td>\n",
       "    </tr>\n",
       "  </tbody>\n",
       "</table>\n",
       "</div>"
      ],
      "text/plain": [
       "             imdb                title  test clean_test binary      code\n",
       "count        1794                 1794  1794       1794   1794      1794\n",
       "unique       1794                 1768    10          5      2        85\n",
       "top     tt1711425  Pride and Prejudice    ok         ok   FAIL  2009FAIL\n",
       "freq            1                    3   696        803    991        82"
      ]
     },
     "execution_count": 3,
     "metadata": {},
     "output_type": "execute_result"
    }
   ],
   "source": [
    "df1.describe(include=object)\n",
    "# vemos que los identificadores imdb con identificadores unicos, el recuento de unique"
   ]
  },
  {
   "cell_type": "code",
   "execution_count": 5,
   "metadata": {},
   "outputs": [
    {
     "name": "stdout",
     "output_type": "stream",
     "text": [
      "<class 'pandas.core.frame.DataFrame'>\n",
      "RangeIndex: 105425 entries, 0 to 105424\n",
      "Data columns (total 20 columns):\n",
      " #   Column                      Non-Null Count   Dtype  \n",
      "---  ------                      --------------   -----  \n",
      " 0   adult                       105425 non-null  object \n",
      " 1   budget                      105425 non-null  object \n",
      " 2   id                          105425 non-null  object \n",
      " 3   imdb_id                     105404 non-null  object \n",
      " 4   original_language           105408 non-null  object \n",
      " 5   original_title              105425 non-null  object \n",
      " 6   overview                    104403 non-null  object \n",
      " 7   popularity                  105408 non-null  object \n",
      " 8   release_date                105389 non-null  object \n",
      " 9   revenue                     105404 non-null  float64\n",
      " 10  runtime                     105184 non-null  float64\n",
      " 11  status                      105353 non-null  object \n",
      " 12  title                       105404 non-null  object \n",
      " 13  vote_average                105404 non-null  float64\n",
      " 14  vote_count                  105404 non-null  float64\n",
      " 15  belongs_to_collection_id    13458 non-null   float64\n",
      " 16  belongs_to_collection_name  13458 non-null   object \n",
      " 17  genre_id                    105425 non-null  int64  \n",
      " 18  genre_name                  105425 non-null  object \n",
      " 19  country_name                105425 non-null  object \n",
      "dtypes: float64(5), int64(1), object(14)\n",
      "memory usage: 16.1+ MB\n"
     ]
    },
    {
     "name": "stderr",
     "output_type": "stream",
     "text": [
      "C:\\Users\\Laura Romero\\AppData\\Local\\Temp\\ipykernel_9340\\898791022.py:3: DtypeWarning: Columns (0,1,2,7) have mixed types. Specify dtype option on import or set low_memory=False.\n",
      "  df2 = pd.read_csv('clean_completo.csv')\n"
     ]
    }
   ],
   "source": [
    "# Abrimos el csv que contiene información de las películas, pero no tiene información del test de Betchdel\n",
    "\n",
    "df2 = pd.read_csv('clean_completo.csv')\n",
    "\n",
    "df2.info()"
   ]
  },
  {
   "cell_type": "code",
   "execution_count": 7,
   "metadata": {},
   "outputs": [],
   "source": [
    "# unificamos los dos dataframes usando el elemento común que es imdb/imdb_id, para tener un csv con información más detallada\n",
    "# de las películas que tienen índice de betchdel. \n",
    "\n",
    "df_merge = pd.merge(df1, df2, left_on='imdb', right_on='imdb_id')"
   ]
  },
  {
   "cell_type": "code",
   "execution_count": 8,
   "metadata": {},
   "outputs": [],
   "source": [
    "# Eliminamos las columnas que tienen información redundante. \n",
    "\n",
    "df_merge.drop(columns=['title_y', 'imdb_id', 'budget_y'], inplace=True)"
   ]
  },
  {
   "cell_type": "code",
   "execution_count": 9,
   "metadata": {},
   "outputs": [],
   "source": [
    "# modificamos el nombre de algunas columnas para que sea más claro. \n",
    "diccionario = {'title_x' : 'title', 'budget_x': 'budget'}\n",
    "\n",
    "df_merge.rename(columns= diccionario, inplace=True)"
   ]
  },
  {
   "cell_type": "code",
   "execution_count": 14,
   "metadata": {},
   "outputs": [
    {
     "data": {
      "text/plain": [
       "1776"
      ]
     },
     "execution_count": 14,
     "metadata": {},
     "output_type": "execute_result"
    }
   ],
   "source": [
    "len(df_merge['imdb'].unique())"
   ]
  },
  {
   "cell_type": "code",
   "execution_count": 15,
   "metadata": {},
   "outputs": [],
   "source": [
    "# Guardamos en un csv\n",
    "df_merge.to_csv('film_betchdel_test.csv', index=False)"
   ]
  }
 ],
 "metadata": {
  "kernelspec": {
   "display_name": "Python 3",
   "language": "python",
   "name": "python3"
  },
  "language_info": {
   "codemirror_mode": {
    "name": "ipython",
    "version": 3
   },
   "file_extension": ".py",
   "mimetype": "text/x-python",
   "name": "python",
   "nbconvert_exporter": "python",
   "pygments_lexer": "ipython3",
   "version": "3.11.9"
  }
 },
 "nbformat": 4,
 "nbformat_minor": 2
}
